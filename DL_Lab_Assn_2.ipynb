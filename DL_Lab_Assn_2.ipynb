{
  "nbformat": 4,
  "nbformat_minor": 0,
  "metadata": {
    "colab": {
      "provenance": []
    },
    "kernelspec": {
      "name": "python3",
      "display_name": "Python 3"
    },
    "language_info": {
      "name": "python"
    }
  },
  "cells": [
    {
      "cell_type": "code",
      "execution_count": 22,
      "metadata": {
        "id": "VqtXmlcN_vLx"
      },
      "outputs": [],
      "source": [
        "import tensorflow as tf\n",
        "from tensorflow import keras\n",
        "import numpy as np\n",
        "import pandas as pd\n",
        "import matplotlib.pyplot as plt\n",
        "from keras.applications.vgg16 import VGG16"
      ]
    },
    {
      "cell_type": "code",
      "source": [
        "(X_train,y_train1),(X_test,y_test1)=keras.datasets.mnist.load_data()"
      ],
      "metadata": {
        "id": "77xc7xhmAkd_",
        "colab": {
          "base_uri": "https://localhost:8080/"
        },
        "outputId": "571aa6f2-bc2f-4da6-c8c0-c402ba855908"
      },
      "execution_count": 23,
      "outputs": [
        {
          "output_type": "stream",
          "name": "stdout",
          "text": [
            "Downloading data from https://storage.googleapis.com/tensorflow/tf-keras-datasets/mnist.npz\n",
            "11493376/11490434 [==============================] - 0s 0us/step\n",
            "11501568/11490434 [==============================] - 0s 0us/step\n"
          ]
        }
      ]
    },
    {
      "cell_type": "code",
      "source": [
        "def build_model(input_size):\n",
        "  input = keras.layers.Input(input_size)\n",
        "  x = keras.layers.Flatten()(input)\n",
        "  x = keras.layers.Dense(256,'relu')(x)\n",
        "  x = keras.layers.BatchNormalization()(x)\n",
        "  x = keras.layers.Dropout(0.4)(x)\n",
        "  x = keras.layers.Dense(128,'relu')(x)\n",
        "  x= keras.layers.BatchNormalization()(x)\n",
        "  x= keras.layers.Dropout(0.4)(x)\n",
        "  output = keras.layers.Dense(10,activation='softmax')(x)\n",
        "\n",
        "  model=keras.Model(inputs=input,outputs=output)\n",
        "  return model"
      ],
      "metadata": {
        "id": "SCT_bav_BSJp"
      },
      "execution_count": 25,
      "outputs": []
    },
    {
      "cell_type": "code",
      "source": [
        "print(X_train.shape,X_test.shape)"
      ],
      "metadata": {
        "colab": {
          "base_uri": "https://localhost:8080/"
        },
        "id": "yq3thxNPbPEX",
        "outputId": "a9401ef2-66e2-4dee-bcc6-f6e22ce4e669"
      },
      "execution_count": 28,
      "outputs": [
        {
          "output_type": "stream",
          "name": "stdout",
          "text": [
            "(60000, 28, 28) (10000, 28, 28)\n"
          ]
        }
      ]
    },
    {
      "cell_type": "code",
      "source": [
        "plt.imshow(X_train[0])\n",
        "print(y_train1[0])"
      ],
      "metadata": {
        "colab": {
          "base_uri": "https://localhost:8080/",
          "height": 282
        },
        "id": "inUGoU5teJC6",
        "outputId": "b21546ce-1b78-4642-d101-333bdff19f0e"
      },
      "execution_count": 27,
      "outputs": [
        {
          "output_type": "stream",
          "name": "stdout",
          "text": [
            "5\n"
          ]
        },
        {
          "output_type": "display_data",
          "data": {
            "text/plain": [
              "<Figure size 432x288 with 1 Axes>"
            ],
            "image/png": "[encoded data removed]"
          },
          "metadata": {
            "needs_background": "light"
          }
        }
      ]
    },
    {
      "cell_type": "code",
      "source": [
        "y_train=np.zeros((60000,10),dtype='uint8')\n",
        "for i in range(y_train.shape[0]):\n",
        "  b=[0 for j in range(10)]\n",
        "  b[y_train1[i]]=1\n",
        "  y_train[i]=np.array(b,dtype='uint8')\n",
        "y_test=np.zeros((10000,10),dtype='uint8')\n",
        "for i in range(10000):\n",
        "  b=[0 for j in range(10)]\n",
        "  b[y_test1[i]]=1\n",
        "  y_test[i]=np.array(b)\n",
        "\n",
        "X_train=X_train/255\n",
        "X_test=X_test/255"
      ],
      "metadata": {
        "id": "SNoiGPYly-gk"
      },
      "execution_count": 31,
      "outputs": []
    },
    {
      "cell_type": "code",
      "source": [
        "print(y_train[0])"
      ],
      "metadata": {
        "colab": {
          "base_uri": "https://localhost:8080/"
        },
        "id": "waCwl4TysAtQ",
        "outputId": "ff486a98-dd83-4837-f559-afb25b58d2b6"
      },
      "execution_count": 33,
      "outputs": [
        {
          "output_type": "stream",
          "name": "stdout",
          "text": [
            "[0 0 0 0 0 1 0 0 0 0]\n"
          ]
        }
      ]
    },
    {
      "cell_type": "code",
      "source": [
        "model = build_model((28,28))"
      ],
      "metadata": {
        "id": "U4v7Nzc0fT_w"
      },
      "execution_count": 34,
      "outputs": []
    },
    {
      "cell_type": "code",
      "source": [
        "model.compile(optimizer='adam',loss='binary_crossentropy',metrics=['accuracy'])"
      ],
      "metadata": {
        "id": "nNJtz5twifnp"
      },
      "execution_count": 35,
      "outputs": []
    },
    {
      "cell_type": "code",
      "source": [
        "history=model.fit(X_train,y_train,batch_size=100,epochs=200,validation_split=0.1)"
      ],
      "metadata": {
        "colab": {
          "base_uri": "https://localhost:8080/"
        },
        "id": "nzPwb7eAx1Nq",
        "outputId": "423008c1-4f1e-4c6c-fb1d-a059c90f4aa4"
      },
      "execution_count": 36,
      "outputs": [
        {
          "output_type": "stream",
          "name": "stdout",
          "text": [
            "Epoch 1/200\n",
            "540/540 [==============================] - 67s 10ms/step - loss: 0.2162 - accuracy: 0.8461 - val_loss: 0.0333 - val_accuracy: 0.9562\n",
            "Epoch 2/200\n",
            "540/540 [==============================] - 7s 13ms/step - loss: 0.0497 - accuracy: 0.9324 - val_loss: 0.0211 - val_accuracy: 0.9672\n",
            "Epoch 3/200\n",
            "540/540 [==============================] - 6s 11ms/step - loss: 0.0372 - accuracy: 0.9476 - val_loss: 0.0161 - val_accuracy: 0.9748\n",
            "Epoch 4/200\n",
            "540/540 [==============================] - 5s 10ms/step - loss: 0.0301 - accuracy: 0.9576 - val_loss: 0.0154 - val_accuracy: 0.9732\n",
            "Epoch 5/200\n",
            "540/540 [==============================] - 5s 10ms/step - loss: 0.0270 - accuracy: 0.9612 - val_loss: 0.0141 - val_accuracy: 0.9768\n",
            "Epoch 6/200\n",
            "540/540 [==============================] - 5s 10ms/step - loss: 0.0240 - accuracy: 0.9657 - val_loss: 0.0133 - val_accuracy: 0.9777\n",
            "Epoch 7/200\n",
            "540/540 [==============================] - 6s 10ms/step - loss: 0.0222 - accuracy: 0.9680 - val_loss: 0.0118 - val_accuracy: 0.9813\n",
            "Epoch 8/200\n",
            "540/540 [==============================] - 5s 9ms/step - loss: 0.0199 - accuracy: 0.9708 - val_loss: 0.0123 - val_accuracy: 0.9800\n",
            "Epoch 9/200\n",
            "540/540 [==============================] - 5s 9ms/step - loss: 0.0195 - accuracy: 0.9715 - val_loss: 0.0112 - val_accuracy: 0.9810\n",
            "Epoch 10/200\n",
            "540/540 [==============================] - 5s 9ms/step - loss: 0.0177 - accuracy: 0.9743 - val_loss: 0.0109 - val_accuracy: 0.9817\n",
            "Epoch 11/200\n",
            "540/540 [==============================] - 6s 12ms/step - loss: 0.0167 - accuracy: 0.9755 - val_loss: 0.0110 - val_accuracy: 0.9813\n",
            "Epoch 12/200\n",
            "540/540 [==============================] - 5s 9ms/step - loss: 0.0161 - accuracy: 0.9760 - val_loss: 0.0107 - val_accuracy: 0.9815\n",
            "Epoch 13/200\n",
            "540/540 [==============================] - 6s 11ms/step - loss: 0.0159 - accuracy: 0.9764 - val_loss: 0.0108 - val_accuracy: 0.9838\n",
            "Epoch 14/200\n",
            "540/540 [==============================] - 5s 9ms/step - loss: 0.0148 - accuracy: 0.9782 - val_loss: 0.0107 - val_accuracy: 0.9825\n",
            "Epoch 15/200\n",
            "540/540 [==============================] - 5s 9ms/step - loss: 0.0142 - accuracy: 0.9794 - val_loss: 0.0105 - val_accuracy: 0.9815\n",
            "Epoch 16/200\n",
            "540/540 [==============================] - 5s 9ms/step - loss: 0.0136 - accuracy: 0.9799 - val_loss: 0.0105 - val_accuracy: 0.9828\n",
            "Epoch 17/200\n",
            "540/540 [==============================] - 5s 9ms/step - loss: 0.0128 - accuracy: 0.9813 - val_loss: 0.0100 - val_accuracy: 0.9842\n",
            "Epoch 18/200\n",
            "540/540 [==============================] - 5s 10ms/step - loss: 0.0129 - accuracy: 0.9811 - val_loss: 0.0101 - val_accuracy: 0.9838\n",
            "Epoch 19/200\n",
            "540/540 [==============================] - 5s 9ms/step - loss: 0.0123 - accuracy: 0.9823 - val_loss: 0.0111 - val_accuracy: 0.9815\n",
            "Epoch 20/200\n",
            "540/540 [==============================] - 5s 10ms/step - loss: 0.0124 - accuracy: 0.9818 - val_loss: 0.0104 - val_accuracy: 0.9837\n",
            "Epoch 21/200\n",
            "540/540 [==============================] - 5s 10ms/step - loss: 0.0112 - accuracy: 0.9838 - val_loss: 0.0100 - val_accuracy: 0.9838\n",
            "Epoch 22/200\n",
            "540/540 [==============================] - 5s 10ms/step - loss: 0.0116 - accuracy: 0.9831 - val_loss: 0.0104 - val_accuracy: 0.9830\n",
            "Epoch 23/200\n",
            "540/540 [==============================] - 5s 10ms/step - loss: 0.0108 - accuracy: 0.9846 - val_loss: 0.0113 - val_accuracy: 0.9827\n",
            "Epoch 24/200\n",
            "540/540 [==============================] - 5s 10ms/step - loss: 0.0104 - accuracy: 0.9851 - val_loss: 0.0107 - val_accuracy: 0.9828\n",
            "Epoch 25/200\n",
            "540/540 [==============================] - 5s 10ms/step - loss: 0.0104 - accuracy: 0.9847 - val_loss: 0.0111 - val_accuracy: 0.9828\n",
            "Epoch 26/200\n",
            "540/540 [==============================] - 5s 10ms/step - loss: 0.0102 - accuracy: 0.9846 - val_loss: 0.0099 - val_accuracy: 0.9843\n",
            "Epoch 27/200\n",
            "540/540 [==============================] - 5s 10ms/step - loss: 0.0098 - accuracy: 0.9859 - val_loss: 0.0108 - val_accuracy: 0.9838\n",
            "Epoch 28/200\n",
            "540/540 [==============================] - 5s 9ms/step - loss: 0.0090 - accuracy: 0.9874 - val_loss: 0.0096 - val_accuracy: 0.9847\n",
            "Epoch 29/200\n",
            "540/540 [==============================] - 5s 9ms/step - loss: 0.0096 - accuracy: 0.9865 - val_loss: 0.0101 - val_accuracy: 0.9853\n",
            "Epoch 30/200\n",
            "540/540 [==============================] - 5s 9ms/step - loss: 0.0093 - accuracy: 0.9865 - val_loss: 0.0108 - val_accuracy: 0.9852\n",
            "Epoch 31/200\n",
            "540/540 [==============================] - 5s 9ms/step - loss: 0.0092 - accuracy: 0.9867 - val_loss: 0.0103 - val_accuracy: 0.9863\n",
            "Epoch 32/200\n",
            "540/540 [==============================] - 5s 9ms/step - loss: 0.0089 - accuracy: 0.9870 - val_loss: 0.0122 - val_accuracy: 0.9827\n",
            "Epoch 33/200\n",
            "540/540 [==============================] - 5s 9ms/step - loss: 0.0089 - accuracy: 0.9869 - val_loss: 0.0102 - val_accuracy: 0.9857\n",
            "Epoch 34/200\n",
            "540/540 [==============================] - 5s 9ms/step - loss: 0.0084 - accuracy: 0.9879 - val_loss: 0.0107 - val_accuracy: 0.9842\n",
            "Epoch 35/200\n",
            "540/540 [==============================] - 5s 10ms/step - loss: 0.0082 - accuracy: 0.9888 - val_loss: 0.0111 - val_accuracy: 0.9825\n",
            "Epoch 36/200\n",
            "540/540 [==============================] - 5s 9ms/step - loss: 0.0084 - accuracy: 0.9882 - val_loss: 0.0114 - val_accuracy: 0.9825\n",
            "Epoch 37/200\n",
            "540/540 [==============================] - 5s 9ms/step - loss: 0.0083 - accuracy: 0.9880 - val_loss: 0.0107 - val_accuracy: 0.9837\n",
            "Epoch 38/200\n",
            "540/540 [==============================] - 6s 11ms/step - loss: 0.0076 - accuracy: 0.9897 - val_loss: 0.0110 - val_accuracy: 0.9838\n",
            "Epoch 39/200\n",
            "540/540 [==============================] - 5s 9ms/step - loss: 0.0077 - accuracy: 0.9888 - val_loss: 0.0112 - val_accuracy: 0.9837\n",
            "Epoch 40/200\n",
            "540/540 [==============================] - 5s 9ms/step - loss: 0.0077 - accuracy: 0.9894 - val_loss: 0.0108 - val_accuracy: 0.9845\n",
            "Epoch 41/200\n",
            "540/540 [==============================] - 5s 9ms/step - loss: 0.0074 - accuracy: 0.9895 - val_loss: 0.0101 - val_accuracy: 0.9853\n",
            "Epoch 42/200\n",
            "540/540 [==============================] - 5s 10ms/step - loss: 0.0077 - accuracy: 0.9894 - val_loss: 0.0103 - val_accuracy: 0.9862\n",
            "Epoch 43/200\n",
            "540/540 [==============================] - 5s 9ms/step - loss: 0.0069 - accuracy: 0.9907 - val_loss: 0.0105 - val_accuracy: 0.9862\n",
            "Epoch 44/200\n",
            "540/540 [==============================] - 5s 9ms/step - loss: 0.0073 - accuracy: 0.9896 - val_loss: 0.0105 - val_accuracy: 0.9848\n",
            "Epoch 45/200\n",
            "540/540 [==============================] - 5s 9ms/step - loss: 0.0073 - accuracy: 0.9901 - val_loss: 0.0107 - val_accuracy: 0.9845\n",
            "Epoch 46/200\n",
            "540/540 [==============================] - 5s 9ms/step - loss: 0.0073 - accuracy: 0.9899 - val_loss: 0.0107 - val_accuracy: 0.9858\n",
            "Epoch 47/200\n",
            "540/540 [==============================] - 5s 9ms/step - loss: 0.0072 - accuracy: 0.9900 - val_loss: 0.0111 - val_accuracy: 0.9838\n",
            "Epoch 48/200\n",
            "540/540 [==============================] - 5s 9ms/step - loss: 0.0069 - accuracy: 0.9906 - val_loss: 0.0100 - val_accuracy: 0.9848\n",
            "Epoch 49/200\n",
            "540/540 [==============================] - 5s 9ms/step - loss: 0.0066 - accuracy: 0.9907 - val_loss: 0.0101 - val_accuracy: 0.9852\n",
            "Epoch 50/200\n",
            "540/540 [==============================] - 5s 9ms/step - loss: 0.0069 - accuracy: 0.9906 - val_loss: 0.0102 - val_accuracy: 0.9848\n",
            "Epoch 51/200\n",
            "540/540 [==============================] - 5s 9ms/step - loss: 0.0065 - accuracy: 0.9914 - val_loss: 0.0108 - val_accuracy: 0.9848\n",
            "Epoch 52/200\n",
            "540/540 [==============================] - 5s 10ms/step - loss: 0.0064 - accuracy: 0.9908 - val_loss: 0.0098 - val_accuracy: 0.9855\n",
            "Epoch 53/200\n",
            "540/540 [==============================] - 5s 10ms/step - loss: 0.0064 - accuracy: 0.9909 - val_loss: 0.0107 - val_accuracy: 0.9848\n",
            "Epoch 54/200\n",
            "540/540 [==============================] - 5s 10ms/step - loss: 0.0065 - accuracy: 0.9916 - val_loss: 0.0100 - val_accuracy: 0.9857\n",
            "Epoch 55/200\n",
            "540/540 [==============================] - 5s 9ms/step - loss: 0.0060 - accuracy: 0.9918 - val_loss: 0.0106 - val_accuracy: 0.9870\n",
            "Epoch 56/200\n",
            "540/540 [==============================] - 5s 10ms/step - loss: 0.0060 - accuracy: 0.9915 - val_loss: 0.0100 - val_accuracy: 0.9867\n",
            "Epoch 57/200\n",
            "540/540 [==============================] - 5s 10ms/step - loss: 0.0061 - accuracy: 0.9916 - val_loss: 0.0098 - val_accuracy: 0.9855\n",
            "Epoch 58/200\n",
            "540/540 [==============================] - 5s 10ms/step - loss: 0.0063 - accuracy: 0.9915 - val_loss: 0.0111 - val_accuracy: 0.9840\n",
            "Epoch 59/200\n",
            "540/540 [==============================] - 5s 10ms/step - loss: 0.0062 - accuracy: 0.9918 - val_loss: 0.0101 - val_accuracy: 0.9858\n",
            "Epoch 60/200\n",
            "540/540 [==============================] - 5s 10ms/step - loss: 0.0056 - accuracy: 0.9924 - val_loss: 0.0104 - val_accuracy: 0.9838\n",
            "Epoch 61/200\n",
            "540/540 [==============================] - 5s 9ms/step - loss: 0.0054 - accuracy: 0.9926 - val_loss: 0.0105 - val_accuracy: 0.9853\n",
            "Epoch 62/200\n",
            "540/540 [==============================] - 5s 9ms/step - loss: 0.0059 - accuracy: 0.9919 - val_loss: 0.0097 - val_accuracy: 0.9865\n",
            "Epoch 63/200\n",
            "540/540 [==============================] - 5s 10ms/step - loss: 0.0058 - accuracy: 0.9920 - val_loss: 0.0108 - val_accuracy: 0.9852\n",
            "Epoch 64/200\n",
            "540/540 [==============================] - 6s 11ms/step - loss: 0.0061 - accuracy: 0.9914 - val_loss: 0.0102 - val_accuracy: 0.9883\n",
            "Epoch 65/200\n",
            "540/540 [==============================] - 6s 10ms/step - loss: 0.0055 - accuracy: 0.9926 - val_loss: 0.0101 - val_accuracy: 0.9858\n",
            "Epoch 66/200\n",
            "540/540 [==============================] - 5s 9ms/step - loss: 0.0062 - accuracy: 0.9911 - val_loss: 0.0102 - val_accuracy: 0.9867\n",
            "Epoch 67/200\n",
            "540/540 [==============================] - 5s 10ms/step - loss: 0.0054 - accuracy: 0.9929 - val_loss: 0.0107 - val_accuracy: 0.9857\n",
            "Epoch 68/200\n",
            "540/540 [==============================] - 5s 9ms/step - loss: 0.0056 - accuracy: 0.9929 - val_loss: 0.0123 - val_accuracy: 0.9847\n",
            "Epoch 69/200\n",
            "540/540 [==============================] - 5s 10ms/step - loss: 0.0051 - accuracy: 0.9933 - val_loss: 0.0107 - val_accuracy: 0.9855\n",
            "Epoch 70/200\n",
            "540/540 [==============================] - 5s 9ms/step - loss: 0.0050 - accuracy: 0.9935 - val_loss: 0.0110 - val_accuracy: 0.9863\n",
            "Epoch 71/200\n",
            "540/540 [==============================] - 5s 9ms/step - loss: 0.0055 - accuracy: 0.9922 - val_loss: 0.0105 - val_accuracy: 0.9857\n",
            "Epoch 72/200\n",
            "540/540 [==============================] - 5s 10ms/step - loss: 0.0056 - accuracy: 0.9926 - val_loss: 0.0099 - val_accuracy: 0.9875\n",
            "Epoch 73/200\n",
            "540/540 [==============================] - 5s 10ms/step - loss: 0.0053 - accuracy: 0.9922 - val_loss: 0.0111 - val_accuracy: 0.9857\n",
            "Epoch 74/200\n",
            "540/540 [==============================] - 5s 9ms/step - loss: 0.0049 - accuracy: 0.9935 - val_loss: 0.0107 - val_accuracy: 0.9853\n",
            "Epoch 75/200\n",
            "540/540 [==============================] - 5s 10ms/step - loss: 0.0052 - accuracy: 0.9931 - val_loss: 0.0101 - val_accuracy: 0.9867\n",
            "Epoch 76/200\n",
            "540/540 [==============================] - 5s 10ms/step - loss: 0.0047 - accuracy: 0.9939 - val_loss: 0.0105 - val_accuracy: 0.9863\n",
            "Epoch 77/200\n",
            "540/540 [==============================] - 5s 10ms/step - loss: 0.0050 - accuracy: 0.9935 - val_loss: 0.0106 - val_accuracy: 0.9863\n",
            "Epoch 78/200\n",
            "540/540 [==============================] - 5s 10ms/step - loss: 0.0051 - accuracy: 0.9935 - val_loss: 0.0112 - val_accuracy: 0.9858\n",
            "Epoch 79/200\n",
            "540/540 [==============================] - 5s 10ms/step - loss: 0.0052 - accuracy: 0.9929 - val_loss: 0.0114 - val_accuracy: 0.9858\n",
            "Epoch 80/200\n",
            "540/540 [==============================] - 5s 10ms/step - loss: 0.0050 - accuracy: 0.9935 - val_loss: 0.0116 - val_accuracy: 0.9853\n",
            "Epoch 81/200\n",
            "540/540 [==============================] - 5s 10ms/step - loss: 0.0052 - accuracy: 0.9930 - val_loss: 0.0112 - val_accuracy: 0.9852\n",
            "Epoch 82/200\n",
            "540/540 [==============================] - 5s 10ms/step - loss: 0.0047 - accuracy: 0.9939 - val_loss: 0.0105 - val_accuracy: 0.9863\n",
            "Epoch 83/200\n",
            "540/540 [==============================] - 5s 10ms/step - loss: 0.0050 - accuracy: 0.9932 - val_loss: 0.0113 - val_accuracy: 0.9858\n",
            "Epoch 84/200\n",
            "540/540 [==============================] - 5s 9ms/step - loss: 0.0051 - accuracy: 0.9930 - val_loss: 0.0102 - val_accuracy: 0.9853\n",
            "Epoch 85/200\n",
            "540/540 [==============================] - 5s 10ms/step - loss: 0.0049 - accuracy: 0.9937 - val_loss: 0.0100 - val_accuracy: 0.9862\n",
            "Epoch 86/200\n",
            "540/540 [==============================] - 5s 10ms/step - loss: 0.0051 - accuracy: 0.9929 - val_loss: 0.0115 - val_accuracy: 0.9862\n",
            "Epoch 87/200\n",
            "540/540 [==============================] - 5s 9ms/step - loss: 0.0049 - accuracy: 0.9937 - val_loss: 0.0104 - val_accuracy: 0.9855\n",
            "Epoch 88/200\n",
            "540/540 [==============================] - 5s 10ms/step - loss: 0.0051 - accuracy: 0.9934 - val_loss: 0.0103 - val_accuracy: 0.9855\n",
            "Epoch 89/200\n",
            "540/540 [==============================] - 5s 9ms/step - loss: 0.0045 - accuracy: 0.9940 - val_loss: 0.0109 - val_accuracy: 0.9855\n",
            "Epoch 90/200\n",
            "540/540 [==============================] - 5s 10ms/step - loss: 0.0044 - accuracy: 0.9941 - val_loss: 0.0107 - val_accuracy: 0.9853\n",
            "Epoch 91/200\n",
            "540/540 [==============================] - 6s 11ms/step - loss: 0.0044 - accuracy: 0.9942 - val_loss: 0.0112 - val_accuracy: 0.9858\n",
            "Epoch 92/200\n",
            "540/540 [==============================] - 5s 10ms/step - loss: 0.0046 - accuracy: 0.9941 - val_loss: 0.0114 - val_accuracy: 0.9867\n",
            "Epoch 93/200\n",
            "540/540 [==============================] - 5s 10ms/step - loss: 0.0043 - accuracy: 0.9942 - val_loss: 0.0121 - val_accuracy: 0.9848\n",
            "Epoch 94/200\n",
            "540/540 [==============================] - 5s 10ms/step - loss: 0.0048 - accuracy: 0.9939 - val_loss: 0.0116 - val_accuracy: 0.9850\n",
            "Epoch 95/200\n",
            "540/540 [==============================] - 5s 10ms/step - loss: 0.0048 - accuracy: 0.9939 - val_loss: 0.0116 - val_accuracy: 0.9858\n",
            "Epoch 96/200\n",
            "540/540 [==============================] - 5s 10ms/step - loss: 0.0047 - accuracy: 0.9938 - val_loss: 0.0113 - val_accuracy: 0.9860\n",
            "Epoch 97/200\n",
            "540/540 [==============================] - 5s 10ms/step - loss: 0.0043 - accuracy: 0.9946 - val_loss: 0.0107 - val_accuracy: 0.9867\n",
            "Epoch 98/200\n",
            "540/540 [==============================] - 5s 10ms/step - loss: 0.0044 - accuracy: 0.9943 - val_loss: 0.0105 - val_accuracy: 0.9863\n",
            "Epoch 99/200\n",
            "540/540 [==============================] - 5s 10ms/step - loss: 0.0044 - accuracy: 0.9943 - val_loss: 0.0105 - val_accuracy: 0.9863\n",
            "Epoch 100/200\n",
            "540/540 [==============================] - 5s 10ms/step - loss: 0.0044 - accuracy: 0.9946 - val_loss: 0.0108 - val_accuracy: 0.9873\n",
            "Epoch 101/200\n",
            "540/540 [==============================] - 5s 10ms/step - loss: 0.0042 - accuracy: 0.9947 - val_loss: 0.0110 - val_accuracy: 0.9858\n",
            "Epoch 102/200\n",
            "540/540 [==============================] - 5s 10ms/step - loss: 0.0045 - accuracy: 0.9942 - val_loss: 0.0107 - val_accuracy: 0.9860\n",
            "Epoch 103/200\n",
            "540/540 [==============================] - 5s 10ms/step - loss: 0.0043 - accuracy: 0.9943 - val_loss: 0.0115 - val_accuracy: 0.9863\n",
            "Epoch 104/200\n",
            "540/540 [==============================] - 5s 10ms/step - loss: 0.0041 - accuracy: 0.9950 - val_loss: 0.0114 - val_accuracy: 0.9852\n",
            "Epoch 105/200\n",
            "540/540 [==============================] - 5s 9ms/step - loss: 0.0045 - accuracy: 0.9941 - val_loss: 0.0109 - val_accuracy: 0.9867\n",
            "Epoch 106/200\n",
            "540/540 [==============================] - 5s 10ms/step - loss: 0.0042 - accuracy: 0.9943 - val_loss: 0.0113 - val_accuracy: 0.9838\n",
            "Epoch 107/200\n",
            "540/540 [==============================] - 5s 10ms/step - loss: 0.0039 - accuracy: 0.9951 - val_loss: 0.0107 - val_accuracy: 0.9862\n",
            "Epoch 108/200\n",
            "540/540 [==============================] - 5s 10ms/step - loss: 0.0042 - accuracy: 0.9948 - val_loss: 0.0114 - val_accuracy: 0.9855\n",
            "Epoch 109/200\n",
            "540/540 [==============================] - 5s 10ms/step - loss: 0.0043 - accuracy: 0.9945 - val_loss: 0.0114 - val_accuracy: 0.9862\n",
            "Epoch 110/200\n",
            "540/540 [==============================] - 5s 9ms/step - loss: 0.0038 - accuracy: 0.9951 - val_loss: 0.0115 - val_accuracy: 0.9855\n",
            "Epoch 111/200\n",
            "540/540 [==============================] - 6s 10ms/step - loss: 0.0044 - accuracy: 0.9941 - val_loss: 0.0109 - val_accuracy: 0.9863\n",
            "Epoch 112/200\n",
            "540/540 [==============================] - 5s 10ms/step - loss: 0.0040 - accuracy: 0.9948 - val_loss: 0.0116 - val_accuracy: 0.9845\n",
            "Epoch 113/200\n",
            "540/540 [==============================] - 5s 10ms/step - loss: 0.0045 - accuracy: 0.9940 - val_loss: 0.0112 - val_accuracy: 0.9850\n",
            "Epoch 114/200\n",
            "540/540 [==============================] - 5s 10ms/step - loss: 0.0041 - accuracy: 0.9946 - val_loss: 0.0110 - val_accuracy: 0.9860\n",
            "Epoch 115/200\n",
            "540/540 [==============================] - 5s 10ms/step - loss: 0.0038 - accuracy: 0.9955 - val_loss: 0.0113 - val_accuracy: 0.9867\n",
            "Epoch 116/200\n",
            "540/540 [==============================] - 5s 10ms/step - loss: 0.0040 - accuracy: 0.9945 - val_loss: 0.0108 - val_accuracy: 0.9870\n",
            "Epoch 117/200\n",
            "540/540 [==============================] - 6s 11ms/step - loss: 0.0038 - accuracy: 0.9956 - val_loss: 0.0120 - val_accuracy: 0.9858\n",
            "Epoch 118/200\n",
            "540/540 [==============================] - 6s 12ms/step - loss: 0.0038 - accuracy: 0.9951 - val_loss: 0.0114 - val_accuracy: 0.9855\n",
            "Epoch 119/200\n",
            "540/540 [==============================] - 7s 13ms/step - loss: 0.0039 - accuracy: 0.9949 - val_loss: 0.0117 - val_accuracy: 0.9863\n",
            "Epoch 120/200\n",
            "540/540 [==============================] - 5s 10ms/step - loss: 0.0039 - accuracy: 0.9951 - val_loss: 0.0113 - val_accuracy: 0.9877\n",
            "Epoch 121/200\n",
            "540/540 [==============================] - 5s 10ms/step - loss: 0.0040 - accuracy: 0.9950 - val_loss: 0.0114 - val_accuracy: 0.9847\n",
            "Epoch 122/200\n",
            "540/540 [==============================] - 5s 10ms/step - loss: 0.0037 - accuracy: 0.9951 - val_loss: 0.0115 - val_accuracy: 0.9857\n",
            "Epoch 123/200\n",
            "540/540 [==============================] - 5s 10ms/step - loss: 0.0037 - accuracy: 0.9951 - val_loss: 0.0120 - val_accuracy: 0.9860\n",
            "Epoch 124/200\n",
            "540/540 [==============================] - 5s 10ms/step - loss: 0.0034 - accuracy: 0.9957 - val_loss: 0.0113 - val_accuracy: 0.9870\n",
            "Epoch 125/200\n",
            "540/540 [==============================] - 5s 10ms/step - loss: 0.0036 - accuracy: 0.9954 - val_loss: 0.0118 - val_accuracy: 0.9848\n",
            "Epoch 126/200\n",
            "540/540 [==============================] - 5s 10ms/step - loss: 0.0040 - accuracy: 0.9949 - val_loss: 0.0107 - val_accuracy: 0.9873\n",
            "Epoch 127/200\n",
            "540/540 [==============================] - 5s 10ms/step - loss: 0.0038 - accuracy: 0.9953 - val_loss: 0.0112 - val_accuracy: 0.9852\n",
            "Epoch 128/200\n",
            "540/540 [==============================] - 5s 10ms/step - loss: 0.0038 - accuracy: 0.9950 - val_loss: 0.0127 - val_accuracy: 0.9858\n",
            "Epoch 129/200\n",
            "540/540 [==============================] - 5s 9ms/step - loss: 0.0038 - accuracy: 0.9951 - val_loss: 0.0113 - val_accuracy: 0.9863\n",
            "Epoch 130/200\n",
            "540/540 [==============================] - 5s 10ms/step - loss: 0.0033 - accuracy: 0.9956 - val_loss: 0.0109 - val_accuracy: 0.9862\n",
            "Epoch 131/200\n",
            "540/540 [==============================] - 5s 10ms/step - loss: 0.0033 - accuracy: 0.9956 - val_loss: 0.0109 - val_accuracy: 0.9870\n",
            "Epoch 132/200\n",
            "540/540 [==============================] - 5s 10ms/step - loss: 0.0033 - accuracy: 0.9960 - val_loss: 0.0106 - val_accuracy: 0.9875\n",
            "Epoch 133/200\n",
            "540/540 [==============================] - 5s 10ms/step - loss: 0.0039 - accuracy: 0.9953 - val_loss: 0.0112 - val_accuracy: 0.9862\n",
            "Epoch 134/200\n",
            "540/540 [==============================] - 5s 10ms/step - loss: 0.0038 - accuracy: 0.9953 - val_loss: 0.0115 - val_accuracy: 0.9875\n",
            "Epoch 135/200\n",
            "540/540 [==============================] - 5s 10ms/step - loss: 0.0036 - accuracy: 0.9956 - val_loss: 0.0110 - val_accuracy: 0.9867\n",
            "Epoch 136/200\n",
            "540/540 [==============================] - 5s 10ms/step - loss: 0.0036 - accuracy: 0.9957 - val_loss: 0.0112 - val_accuracy: 0.9882\n",
            "Epoch 137/200\n",
            "540/540 [==============================] - 5s 10ms/step - loss: 0.0042 - accuracy: 0.9945 - val_loss: 0.0117 - val_accuracy: 0.9860\n",
            "Epoch 138/200\n",
            "540/540 [==============================] - 5s 10ms/step - loss: 0.0034 - accuracy: 0.9956 - val_loss: 0.0109 - val_accuracy: 0.9868\n",
            "Epoch 139/200\n",
            "540/540 [==============================] - 5s 10ms/step - loss: 0.0037 - accuracy: 0.9953 - val_loss: 0.0124 - val_accuracy: 0.9852\n",
            "Epoch 140/200\n",
            "540/540 [==============================] - 5s 10ms/step - loss: 0.0036 - accuracy: 0.9956 - val_loss: 0.0115 - val_accuracy: 0.9863\n",
            "Epoch 141/200\n",
            "540/540 [==============================] - 6s 12ms/step - loss: 0.0034 - accuracy: 0.9959 - val_loss: 0.0114 - val_accuracy: 0.9870\n",
            "Epoch 142/200\n",
            "540/540 [==============================] - 5s 10ms/step - loss: 0.0036 - accuracy: 0.9952 - val_loss: 0.0119 - val_accuracy: 0.9852\n",
            "Epoch 143/200\n",
            "540/540 [==============================] - 5s 10ms/step - loss: 0.0033 - accuracy: 0.9954 - val_loss: 0.0110 - val_accuracy: 0.9865\n",
            "Epoch 144/200\n",
            "540/540 [==============================] - 5s 10ms/step - loss: 0.0032 - accuracy: 0.9962 - val_loss: 0.0121 - val_accuracy: 0.9860\n",
            "Epoch 145/200\n",
            "540/540 [==============================] - 5s 10ms/step - loss: 0.0033 - accuracy: 0.9956 - val_loss: 0.0119 - val_accuracy: 0.9860\n",
            "Epoch 146/200\n",
            "540/540 [==============================] - 5s 10ms/step - loss: 0.0033 - accuracy: 0.9958 - val_loss: 0.0116 - val_accuracy: 0.9868\n",
            "Epoch 147/200\n",
            "540/540 [==============================] - 6s 10ms/step - loss: 0.0034 - accuracy: 0.9957 - val_loss: 0.0121 - val_accuracy: 0.9852\n",
            "Epoch 148/200\n",
            "540/540 [==============================] - 6s 11ms/step - loss: 0.0037 - accuracy: 0.9950 - val_loss: 0.0123 - val_accuracy: 0.9865\n",
            "Epoch 149/200\n",
            "540/540 [==============================] - 6s 11ms/step - loss: 0.0033 - accuracy: 0.9958 - val_loss: 0.0123 - val_accuracy: 0.9853\n",
            "Epoch 150/200\n",
            "540/540 [==============================] - 6s 11ms/step - loss: 0.0032 - accuracy: 0.9960 - val_loss: 0.0127 - val_accuracy: 0.9850\n",
            "Epoch 151/200\n",
            "540/540 [==============================] - 6s 10ms/step - loss: 0.0032 - accuracy: 0.9960 - val_loss: 0.0131 - val_accuracy: 0.9852\n",
            "Epoch 152/200\n",
            "540/540 [==============================] - 5s 10ms/step - loss: 0.0032 - accuracy: 0.9960 - val_loss: 0.0121 - val_accuracy: 0.9862\n",
            "Epoch 153/200\n",
            "540/540 [==============================] - 5s 10ms/step - loss: 0.0033 - accuracy: 0.9958 - val_loss: 0.0122 - val_accuracy: 0.9853\n",
            "Epoch 154/200\n",
            "540/540 [==============================] - 5s 10ms/step - loss: 0.0035 - accuracy: 0.9954 - val_loss: 0.0130 - val_accuracy: 0.9845\n",
            "Epoch 155/200\n",
            "540/540 [==============================] - 5s 10ms/step - loss: 0.0031 - accuracy: 0.9964 - val_loss: 0.0127 - val_accuracy: 0.9855\n",
            "Epoch 156/200\n",
            "540/540 [==============================] - 5s 10ms/step - loss: 0.0035 - accuracy: 0.9953 - val_loss: 0.0130 - val_accuracy: 0.9852\n",
            "Epoch 157/200\n",
            "540/540 [==============================] - 5s 10ms/step - loss: 0.0034 - accuracy: 0.9955 - val_loss: 0.0128 - val_accuracy: 0.9853\n",
            "Epoch 158/200\n",
            "540/540 [==============================] - 5s 10ms/step - loss: 0.0032 - accuracy: 0.9962 - val_loss: 0.0130 - val_accuracy: 0.9852\n",
            "Epoch 159/200\n",
            "540/540 [==============================] - 5s 10ms/step - loss: 0.0033 - accuracy: 0.9962 - val_loss: 0.0124 - val_accuracy: 0.9852\n",
            "Epoch 160/200\n",
            "540/540 [==============================] - 5s 10ms/step - loss: 0.0033 - accuracy: 0.9961 - val_loss: 0.0132 - val_accuracy: 0.9847\n",
            "Epoch 161/200\n",
            "540/540 [==============================] - 5s 10ms/step - loss: 0.0031 - accuracy: 0.9962 - val_loss: 0.0127 - val_accuracy: 0.9845\n",
            "Epoch 162/200\n",
            "540/540 [==============================] - 5s 10ms/step - loss: 0.0033 - accuracy: 0.9958 - val_loss: 0.0119 - val_accuracy: 0.9848\n",
            "Epoch 163/200\n",
            "540/540 [==============================] - 5s 10ms/step - loss: 0.0030 - accuracy: 0.9962 - val_loss: 0.0133 - val_accuracy: 0.9848\n",
            "Epoch 164/200\n",
            "540/540 [==============================] - 5s 10ms/step - loss: 0.0034 - accuracy: 0.9957 - val_loss: 0.0120 - val_accuracy: 0.9858\n",
            "Epoch 165/200\n",
            "540/540 [==============================] - 5s 10ms/step - loss: 0.0034 - accuracy: 0.9960 - val_loss: 0.0122 - val_accuracy: 0.9855\n",
            "Epoch 166/200\n",
            "540/540 [==============================] - 7s 12ms/step - loss: 0.0033 - accuracy: 0.9959 - val_loss: 0.0132 - val_accuracy: 0.9843\n",
            "Epoch 167/200\n",
            "540/540 [==============================] - 6s 10ms/step - loss: 0.0030 - accuracy: 0.9961 - val_loss: 0.0130 - val_accuracy: 0.9842\n",
            "Epoch 168/200\n",
            "540/540 [==============================] - 5s 10ms/step - loss: 0.0032 - accuracy: 0.9960 - val_loss: 0.0129 - val_accuracy: 0.9860\n",
            "Epoch 169/200\n",
            "540/540 [==============================] - 6s 10ms/step - loss: 0.0030 - accuracy: 0.9963 - val_loss: 0.0132 - val_accuracy: 0.9842\n",
            "Epoch 170/200\n",
            "540/540 [==============================] - 5s 10ms/step - loss: 0.0032 - accuracy: 0.9962 - val_loss: 0.0121 - val_accuracy: 0.9855\n",
            "Epoch 171/200\n",
            "540/540 [==============================] - 6s 10ms/step - loss: 0.0031 - accuracy: 0.9960 - val_loss: 0.0123 - val_accuracy: 0.9847\n",
            "Epoch 172/200\n",
            "540/540 [==============================] - 5s 10ms/step - loss: 0.0028 - accuracy: 0.9965 - val_loss: 0.0121 - val_accuracy: 0.9863\n",
            "Epoch 173/200\n",
            "540/540 [==============================] - 5s 10ms/step - loss: 0.0028 - accuracy: 0.9966 - val_loss: 0.0125 - val_accuracy: 0.9853\n",
            "Epoch 174/200\n",
            "540/540 [==============================] - 5s 10ms/step - loss: 0.0032 - accuracy: 0.9958 - val_loss: 0.0117 - val_accuracy: 0.9865\n",
            "Epoch 175/200\n",
            "540/540 [==============================] - 5s 10ms/step - loss: 0.0030 - accuracy: 0.9963 - val_loss: 0.0124 - val_accuracy: 0.9848\n",
            "Epoch 176/200\n",
            "540/540 [==============================] - 5s 10ms/step - loss: 0.0029 - accuracy: 0.9963 - val_loss: 0.0123 - val_accuracy: 0.9853\n",
            "Epoch 177/200\n",
            "540/540 [==============================] - 5s 10ms/step - loss: 0.0028 - accuracy: 0.9966 - val_loss: 0.0127 - val_accuracy: 0.9852\n",
            "Epoch 178/200\n",
            "540/540 [==============================] - 5s 10ms/step - loss: 0.0029 - accuracy: 0.9961 - val_loss: 0.0128 - val_accuracy: 0.9862\n",
            "Epoch 179/200\n",
            "540/540 [==============================] - 5s 10ms/step - loss: 0.0033 - accuracy: 0.9958 - val_loss: 0.0134 - val_accuracy: 0.9850\n",
            "Epoch 180/200\n",
            "540/540 [==============================] - 5s 10ms/step - loss: 0.0027 - accuracy: 0.9970 - val_loss: 0.0131 - val_accuracy: 0.9852\n",
            "Epoch 181/200\n",
            "540/540 [==============================] - 5s 10ms/step - loss: 0.0031 - accuracy: 0.9962 - val_loss: 0.0121 - val_accuracy: 0.9863\n",
            "Epoch 182/200\n",
            "540/540 [==============================] - 5s 10ms/step - loss: 0.0032 - accuracy: 0.9960 - val_loss: 0.0126 - val_accuracy: 0.9857\n",
            "Epoch 183/200\n",
            "540/540 [==============================] - 5s 10ms/step - loss: 0.0025 - accuracy: 0.9966 - val_loss: 0.0123 - val_accuracy: 0.9857\n",
            "Epoch 184/200\n",
            "540/540 [==============================] - 5s 10ms/step - loss: 0.0029 - accuracy: 0.9963 - val_loss: 0.0128 - val_accuracy: 0.9850\n",
            "Epoch 185/200\n",
            "540/540 [==============================] - 5s 10ms/step - loss: 0.0030 - accuracy: 0.9964 - val_loss: 0.0123 - val_accuracy: 0.9855\n",
            "Epoch 186/200\n",
            "540/540 [==============================] - 5s 10ms/step - loss: 0.0030 - accuracy: 0.9963 - val_loss: 0.0116 - val_accuracy: 0.9880\n",
            "Epoch 187/200\n",
            "540/540 [==============================] - 6s 10ms/step - loss: 0.0029 - accuracy: 0.9966 - val_loss: 0.0126 - val_accuracy: 0.9848\n",
            "Epoch 188/200\n",
            "540/540 [==============================] - 6s 10ms/step - loss: 0.0029 - accuracy: 0.9962 - val_loss: 0.0120 - val_accuracy: 0.9858\n",
            "Epoch 189/200\n",
            "540/540 [==============================] - 5s 10ms/step - loss: 0.0032 - accuracy: 0.9964 - val_loss: 0.0122 - val_accuracy: 0.9848\n",
            "Epoch 190/200\n",
            "540/540 [==============================] - 5s 10ms/step - loss: 0.0028 - accuracy: 0.9964 - val_loss: 0.0129 - val_accuracy: 0.9853\n",
            "Epoch 191/200\n",
            "540/540 [==============================] - 7s 12ms/step - loss: 0.0028 - accuracy: 0.9961 - val_loss: 0.0114 - val_accuracy: 0.9860\n",
            "Epoch 192/200\n",
            "540/540 [==============================] - 6s 10ms/step - loss: 0.0027 - accuracy: 0.9969 - val_loss: 0.0117 - val_accuracy: 0.9862\n",
            "Epoch 193/200\n",
            "540/540 [==============================] - 5s 10ms/step - loss: 0.0030 - accuracy: 0.9959 - val_loss: 0.0120 - val_accuracy: 0.9862\n",
            "Epoch 194/200\n",
            "540/540 [==============================] - 5s 10ms/step - loss: 0.0028 - accuracy: 0.9965 - val_loss: 0.0116 - val_accuracy: 0.9878\n",
            "Epoch 195/200\n",
            "540/540 [==============================] - 5s 10ms/step - loss: 0.0030 - accuracy: 0.9963 - val_loss: 0.0116 - val_accuracy: 0.9870\n",
            "Epoch 196/200\n",
            "540/540 [==============================] - 5s 10ms/step - loss: 0.0027 - accuracy: 0.9966 - val_loss: 0.0123 - val_accuracy: 0.9862\n",
            "Epoch 197/200\n",
            "540/540 [==============================] - 5s 10ms/step - loss: 0.0027 - accuracy: 0.9966 - val_loss: 0.0137 - val_accuracy: 0.9848\n",
            "Epoch 198/200\n",
            "540/540 [==============================] - 5s 10ms/step - loss: 0.0029 - accuracy: 0.9963 - val_loss: 0.0131 - val_accuracy: 0.9847\n",
            "Epoch 199/200\n",
            "540/540 [==============================] - 5s 10ms/step - loss: 0.0027 - accuracy: 0.9965 - val_loss: 0.0125 - val_accuracy: 0.9858\n",
            "Epoch 200/200\n",
            "540/540 [==============================] - 5s 10ms/step - loss: 0.0028 - accuracy: 0.9968 - val_loss: 0.0119 - val_accuracy: 0.9860\n"
          ]
        }
      ]
    },
    {
      "cell_type": "code",
      "source": [
        "loss_train = history.history['loss']\n",
        "loss_val = history.history['val_loss']\n",
        "epochs = range(1,201)\n",
        "plt.plot(epochs, loss_train, 'g', label='Training loss')\n",
        "plt.plot(epochs, loss_val, 'b', label='validation loss')\n",
        "plt.title('Training and Validation loss')\n",
        "plt.xlabel('Epochs')\n",
        "plt.ylabel('Loss')\n",
        "plt.legend()\n",
        "plt.show()"
      ],
      "metadata": {
        "colab": {
          "base_uri": "https://localhost:8080/",
          "height": 295
        },
        "id": "0q1dArVDyk6M",
        "outputId": "987e0518-cbaa-43ed-da80-5e6b46cfab1e"
      },
      "execution_count": 37,
      "outputs": [
        {
          "output_type": "display_data",
          "data": {
            "text/plain": [
              "<Figure size 432x288 with 1 Axes>"
            ],
            "image/png": "[encoded data removed]"
          },
          "metadata": {
            "needs_background": "light"
          }
        }
      ]
    },
    {
      "cell_type": "code",
      "source": [
        "loss_train = history.history['accuracy']\n",
        "loss_val = history.history['val_accuracy']\n",
        "epochs = range(1,201)\n",
        "plt.plot(epochs, loss_train, 'g', label='Training loss')\n",
        "plt.plot(epochs, loss_val, 'b', label='validation loss')\n",
        "plt.title('Training and Validation loss')\n",
        "plt.xlabel('Epochs')\n",
        "plt.ylabel('Loss')\n",
        "plt.legend()\n",
        "plt.show()"
      ],
      "metadata": {
        "colab": {
          "base_uri": "https://localhost:8080/",
          "height": 295
        },
        "id": "9gTKMVLHgNYn",
        "outputId": "88508554-b96f-4dbe-d014-e0d3dcb38f4d"
      },
      "execution_count": 38,
      "outputs": [
        {
          "output_type": "display_data",
          "data": {
            "text/plain": [
              "<Figure size 432x288 with 1 Axes>"
            ],
            "image/png": "[encoded data removed]"
          },
          "metadata": {
            "needs_background": "light"
          }
        }
      ]
    },
    {
      "cell_type": "code",
      "source": [
        "plt.imshow(X_test[100])\n",
        "print(y_test[100])"
      ],
      "metadata": {
        "colab": {
          "base_uri": "https://localhost:8080/",
          "height": 282
        },
        "id": "acRplzVXzXYw",
        "outputId": "8e314f14-16ab-4aba-9575-6eba4568fca2"
      },
      "execution_count": 41,
      "outputs": [
        {
          "output_type": "stream",
          "name": "stdout",
          "text": [
            "[0 0 0 0 0 0 1 0 0 0]\n"
          ]
        },
        {
          "output_type": "display_data",
          "data": {
            "text/plain": [
              "<Figure size 432x288 with 1 Axes>"
            ],
            "image/png": "[encoded data removed]"
          },
          "metadata": {
            "needs_background": "light"
          }
        }
      ]
    },
    {
      "cell_type": "code",
      "source": [
        "print(np.argmax(model.predict(np.array([X_test[100]]))))"
      ],
      "metadata": {
        "colab": {
          "base_uri": "https://localhost:8080/"
        },
        "id": "CJLUV4L-zp_Q",
        "outputId": "1d1cfbaf-3906-408e-c1eb-0c60c97745d9"
      },
      "execution_count": 43,
      "outputs": [
        {
          "output_type": "stream",
          "name": "stdout",
          "text": [
            "6\n"
          ]
        }
      ]
    },
    {
      "cell_type": "code",
      "source": [
        "plt.imshow(X_test[4089])\n",
        "print('Actual Value :',np.argmax(y_test[4089]))\n",
        "print('Predicted Value :',np.argmax(model.predict(np.array([X_test[4089]]))))"
      ],
      "metadata": {
        "colab": {
          "base_uri": "https://localhost:8080/",
          "height": 300
        },
        "id": "tfobpqXF0pTC",
        "outputId": "e12b36b8-f19c-43ed-bbe3-628bbb94b2d0"
      },
      "execution_count": 45,
      "outputs": [
        {
          "output_type": "stream",
          "name": "stdout",
          "text": [
            "Actual Value 7\n",
            "Predicted Value 7\n"
          ]
        },
        {
          "output_type": "display_data",
          "data": {
            "text/plain": [
              "<Figure size 432x288 with 1 Axes>"
            ],
            "image/png": "[encoded data removed]"
          },
          "metadata": {
            "needs_background": "light"
          }
        }
      ]
    },
    {
      "cell_type": "code",
      "source": [
        "model.save('mnist10_mlp_dl_assn_2.h5')"
      ],
      "metadata": {
        "id": "qUO1jgeZ2PGk"
      },
      "execution_count": 46,
      "outputs": []
    },
    {
      "cell_type": "code",
      "source": [],
      "metadata": {
        "id": "DQ5Vc2q23OVe"
      },
      "execution_count": null,
      "outputs": []
    }
  ]
}